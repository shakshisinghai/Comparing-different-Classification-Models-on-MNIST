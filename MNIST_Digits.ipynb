{
  "nbformat": 4,
  "nbformat_minor": 0,
  "metadata": {
    "colab": {
      "name": "MNIST_Digits.ipynb",
      "provenance": [],
      "collapsed_sections": [],
      "authorship_tag": "ABX9TyMOt+zXxIGR85VIS4S+tOUU",
      "include_colab_link": true
    },
    "kernelspec": {
      "name": "python3",
      "display_name": "Python 3"
    }
  },
  "cells": [
    {
      "cell_type": "markdown",
      "metadata": {
        "id": "view-in-github",
        "colab_type": "text"
      },
      "source": [
        "<a href=\"https://colab.research.google.com/github/shakshisinghai/Comparing-different-Classification-Models-on-MNIST/blob/master/MNIST_Digits.ipynb\" target=\"_parent\"><img src=\"https://colab.research.google.com/assets/colab-badge.svg\" alt=\"Open In Colab\"/></a>"
      ]
    },
    {
      "cell_type": "code",
      "metadata": {
        "id": "ba4E8DovVAGi",
        "colab_type": "code",
        "colab": {}
      },
      "source": [
        "import tensorflow as tf\n",
        "from matplotlib import pyplot as plt\n",
        "import random\n",
        "from collections import Counter\n",
        "import numpy as np\n",
        "\n",
        "from sklearn.linear_model import LogisticRegression \n",
        "from sklearn import svm\n",
        "from sklearn.linear_model import SGDClassifier\n",
        "from sklearn.preprocessing import PolynomialFeatures\n",
        "from sklearn.pipeline import Pipeline\n",
        "from sklearn.metrics import mean_squared_error\n"
      ],
      "execution_count": 2,
      "outputs": []
    },
    {
      "cell_type": "markdown",
      "metadata": {
        "id": "BKfBb9TAotQy",
        "colab_type": "text"
      },
      "source": [
        "##Loading MNIST dataset.\n",
        "\n",
        "Returns\n",
        "Tuple of Numpy arrays: (x_train, y_train), (x_test, y_test)."
      ]
    },
    {
      "cell_type": "code",
      "metadata": {
        "id": "cxCa5-yfXIfq",
        "colab_type": "code",
        "colab": {
          "base_uri": "https://localhost:8080/",
          "height": 51
        },
        "outputId": "efd1fa1f-00ee-4343-9392-3bc734034438"
      },
      "source": [
        "((x_train, y_train), (x_test, y_test))=tf.keras.datasets.mnist.load_data()"
      ],
      "execution_count": 3,
      "outputs": [
        {
          "output_type": "stream",
          "text": [
            "Downloading data from https://storage.googleapis.com/tensorflow/tf-keras-datasets/mnist.npz\n",
            "11493376/11490434 [==============================] - 0s 0us/step\n"
          ],
          "name": "stdout"
        }
      ]
    },
    {
      "cell_type": "markdown",
      "metadata": {
        "id": "xVS1UBiXXKGI",
        "colab_type": "text"
      },
      "source": [
        "##Data Analysis\n",
        "This is a dataset of 60,000 28x28 grayscale images of the 10 digits, along with a test set of 10,000 images.\n",
        "\n",
        "\n",
        "x_train, x_test: uint8 arrays of grayscale image data with shapes (num_samples, 28, 28).\n",
        "\n",
        "y_train, y_test: uint8 arrays of digit labels (integers in range 0-9) with shapes (num_samples,)."
      ]
    },
    {
      "cell_type": "code",
      "metadata": {
        "id": "Lh8zQrWAV1Id",
        "colab_type": "code",
        "colab": {
          "base_uri": "https://localhost:8080/",
          "height": 51
        },
        "outputId": "f0053f31-4866-4904-b2b1-2c10392e7829"
      },
      "source": [
        "print(type(x_train), type(y_train))\n",
        "print(x_train.shape, y_train.shape)\n",
        "#print(x_train[0], y_train[0])"
      ],
      "execution_count": 4,
      "outputs": [
        {
          "output_type": "stream",
          "text": [
            "<class 'numpy.ndarray'> <class 'numpy.ndarray'>\n",
            "(60000, 28, 28) (60000,)\n"
          ],
          "name": "stdout"
        }
      ]
    },
    {
      "cell_type": "markdown",
      "metadata": {
        "id": "9BivmLbFpU3z",
        "colab_type": "text"
      },
      "source": [
        "> Plotting 25 random digit images from the training set."
      ]
    },
    {
      "cell_type": "code",
      "metadata": {
        "id": "utfJVYx7WUS6",
        "colab_type": "code",
        "colab": {
          "base_uri": "https://localhost:8080/",
          "height": 297
        },
        "outputId": "a4d4a8d7-06ef-4045-c842-9f4ab9a57ddd"
      },
      "source": [
        "\n",
        "n=5\n",
        "j=1\n",
        "rand=[random.randint(1,6000) for i in range(1,n*n+1)]\n",
        "for i in rand:\n",
        "  plt.subplot(n,n,j)\n",
        "  plt.imshow(x_train[i],cmap='gray')\n",
        "  plt.title(\"{0}\".format( y_train[i]))\n",
        "  plt.xticks([], [])\n",
        "  plt.yticks([], [])\n",
        "  j+=1\n",
        "  "
      ],
      "execution_count": null,
      "outputs": [
        {
          "output_type": "display_data",
          "data": {
            "image/png": "[encoded data removed]",
            "text/plain": [
              "<Figure size 432x288 with 25 Axes>"
            ]
          },
          "metadata": {
            "tags": []
          }
        }
      ]
    },
    {
      "cell_type": "markdown",
      "metadata": {
        "id": "uFRWnXFDp2M_",
        "colab_type": "text"
      },
      "source": [
        "> Histogram to represent counts of digit in training and test set\n"
      ]
    },
    {
      "cell_type": "code",
      "metadata": {
        "id": "Xo1iOP5Jps4K",
        "colab_type": "code",
        "colab": {
          "base_uri": "https://localhost:8080/",
          "height": 297
        },
        "outputId": "babd6bc2-ec11-42b0-b16d-f9ab1b5dcff5"
      },
      "source": [
        "plt.subplot(2,1,1)\n",
        "plt.hist(y_train, range=(0,9))\n",
        "plt.title(\"Training Data\")\n",
        "\n",
        "plt.subplot(2,1,2)\n",
        "plt.hist(y_test, range=(0,9))\n",
        "plt.title(\"Test Data\")\n",
        "\n",
        "plt.tight_layout()"
      ],
      "execution_count": null,
      "outputs": [
        {
          "output_type": "display_data",
          "data": {
            "image/png": "[encoded data removed]",
            "text/plain": [
              "<Figure size 432x288 with 2 Axes>"
            ]
          },
          "metadata": {
            "tags": [],
            "needs_background": "light"
          }
        }
      ]
    },
    {
      "cell_type": "markdown",
      "metadata": {
        "id": "-NWoyr4trQvt",
        "colab_type": "text"
      },
      "source": [
        "\n",
        "\n",
        "> Bar plot to represent the Count of digits in Training set.\n",
        "\n",
        "autolabel: A bar plot with height labels on individual bars.\n",
        "\n"
      ]
    },
    {
      "cell_type": "code",
      "metadata": {
        "id": "4LryL9x4V-zi",
        "colab_type": "code",
        "colab": {
          "base_uri": "https://localhost:8080/",
          "height": 34
        },
        "outputId": "a63726aa-e6d5-4259-e084-53fb2895c719"
      },
      "source": [
        "\n",
        "count=Counter(y_train)\n",
        "count=sorted(list(dict(count).items()))\n",
        "count=np.array(count)\n",
        "digitcount=(count[:,1])\n",
        "print(count[:,0])"
      ],
      "execution_count": 13,
      "outputs": [
        {
          "output_type": "stream",
          "text": [
            "[0 1 2 3 4 5 6 7 8 9]\n"
          ],
          "name": "stdout"
        }
      ]
    },
    {
      "cell_type": "code",
      "metadata": {
        "id": "q5_zAtPJX12Z",
        "colab_type": "code",
        "colab": {
          "base_uri": "https://localhost:8080/",
          "height": 312
        },
        "outputId": "970d1734-8483-4c53-daa3-d49754b1c314"
      },
      "source": [
        "def autolabel(rects):\n",
        "    \"\"\"Attach a text label above each bar in *rects*, displaying its height.\"\"\"\n",
        "    for rect in rects:\n",
        "        height = rect.get_height()\n",
        "        plt.annotate('{}'.format(height),\n",
        "                    xy=(rect.get_x(), height+100)\n",
        "                    )\n",
        "plt.tight_layout()\n",
        "rects = plt.bar(x = count[:,0], \n",
        "                height=digitcount, \n",
        "                width=0.8, \n",
        "                tick_label=count[:,0])\n",
        "autolabel(rects)\n",
        "plt.title('DIGIT COUNT')\n",
        "plt.ylabel('Count')\n",
        "plt.xlabel('Digit')"
      ],
      "execution_count": null,
      "outputs": [
        {
          "output_type": "execute_result",
          "data": {
            "text/plain": [
              "Text(0.5, 0, 'Digit')"
            ]
          },
          "metadata": {
            "tags": []
          },
          "execution_count": 58
        },
        {
          "output_type": "display_data",
          "data": {
            "image/png": "[encoded data removed]",
            "text/plain": [
              "<Figure size 432x288 with 1 Axes>"
            ]
          },
          "metadata": {
            "tags": [],
            "needs_background": "light"
          }
        }
      ]
    },
    {
      "cell_type": "markdown",
      "metadata": {
        "id": "zXzsUkXOyw26",
        "colab_type": "text"
      },
      "source": [
        "## Changing the shape of the data\n"
      ]
    },
    {
      "cell_type": "code",
      "metadata": {
        "id": "V2Nm6kwqywPm",
        "colab_type": "code",
        "colab": {
          "base_uri": "https://localhost:8080/",
          "height": 34
        },
        "outputId": "2f372882-5085-44bf-9c02-a37061580c8a"
      },
      "source": [
        "x_train=x_train.reshape(len(x_train), -1)\n",
        "x_test=x_test.reshape(len(x_test), -1)\n",
        "print(\"After Reshaping x_train:{0} and x_test:{1}\".format(x_train.shape, x_test.shape))\n"
      ],
      "execution_count": 4,
      "outputs": [
        {
          "output_type": "stream",
          "text": [
            "After Reshaping x_train:(60000, 784) and x_test:(10000, 784)\n"
          ],
          "name": "stdout"
        }
      ]
    },
    {
      "cell_type": "markdown",
      "metadata": {
        "id": "Hj3gjAH7U8-c",
        "colab_type": "text"
      },
      "source": [
        "##Train\n"
      ]
    },
    {
      "cell_type": "markdown",
      "metadata": {
        "id": "B0kAROlxe-lk",
        "colab_type": "text"
      },
      "source": [
        "###LogisticRegression"
      ]
    },
    {
      "cell_type": "code",
      "metadata": {
        "id": "cXGC04GtRUUh",
        "colab_type": "code",
        "colab": {
          "base_uri": "https://localhost:8080/",
          "height": 238
        },
        "outputId": "5bc09b32-ef6b-4095-e155-cbb404c33b7a"
      },
      "source": [
        "model= LogisticRegression(fit_intercept=False)\n",
        "\n",
        "model.fit(x_train, y_train)"
      ],
      "execution_count": 5,
      "outputs": [
        {
          "output_type": "stream",
          "text": [
            "/usr/local/lib/python3.6/dist-packages/sklearn/linear_model/_logistic.py:940: ConvergenceWarning: lbfgs failed to converge (status=1):\n",
            "STOP: TOTAL NO. of ITERATIONS REACHED LIMIT.\n",
            "\n",
            "Increase the number of iterations (max_iter) or scale the data as shown in:\n",
            "    https://scikit-learn.org/stable/modules/preprocessing.html\n",
            "Please also refer to the documentation for alternative solver options:\n",
            "    https://scikit-learn.org/stable/modules/linear_model.html#logistic-regression\n",
            "  extra_warning_msg=_LOGISTIC_SOLVER_CONVERGENCE_MSG)\n"
          ],
          "name": "stderr"
        },
        {
          "output_type": "execute_result",
          "data": {
            "text/plain": [
              "LogisticRegression(C=1.0, class_weight=None, dual=False, fit_intercept=False,\n",
              "                   intercept_scaling=1, l1_ratio=None, max_iter=100,\n",
              "                   multi_class='auto', n_jobs=None, penalty='l2',\n",
              "                   random_state=None, solver='lbfgs', tol=0.0001, verbose=0,\n",
              "                   warm_start=False)"
            ]
          },
          "metadata": {
            "tags": []
          },
          "execution_count": 5
        }
      ]
    },
    {
      "cell_type": "code",
      "metadata": {
        "id": "1Q3KZQwowU2c",
        "colab_type": "code",
        "colab": {
          "base_uri": "https://localhost:8080/",
          "height": 51
        },
        "outputId": "28653125-20ef-4d86-ce68-5fd6c9cbd88c"
      },
      "source": [
        "y_pred=model.predict(x_test)\n",
        "logistic_error=(mean_squared_error(y_test, y_pred))\n",
        "print(logistic_error)\n",
        "\n",
        "score = model.score(x_test, y_test)\n",
        "logistic_accuracy=score*100\n",
        "print(\"{0}%\".format(score*100))\n"
      ],
      "execution_count": 27,
      "outputs": [
        {
          "output_type": "stream",
          "text": [
            "1.305\n",
            "92.38%\n"
          ],
          "name": "stdout"
        }
      ]
    },
    {
      "cell_type": "markdown",
      "metadata": {
        "id": "LnG0JCCAUxcx",
        "colab_type": "text"
      },
      "source": [
        "### Support Vector Machine \n",
        "\n",
        " SVM objective is to find a hyperplane in an N-dimensional space(N — the number of features) that distinctly classifies the data points and have maximum distance between data points of classes."
      ]
    },
    {
      "cell_type": "code",
      "metadata": {
        "id": "8MWZMx7GT8IB",
        "colab_type": "code",
        "colab": {
          "base_uri": "https://localhost:8080/",
          "height": 85
        },
        "outputId": "695b77b3-9110-40fd-bd33-982ccc166ebe"
      },
      "source": [
        "clf = svm.SVC()\n",
        "clf.fit(x_train, y_train)"
      ],
      "execution_count": 7,
      "outputs": [
        {
          "output_type": "execute_result",
          "data": {
            "text/plain": [
              "SVC(C=1.0, break_ties=False, cache_size=200, class_weight=None, coef0=0.0,\n",
              "    decision_function_shape='ovr', degree=3, gamma='scale', kernel='rbf',\n",
              "    max_iter=-1, probability=False, random_state=None, shrinking=True,\n",
              "    tol=0.001, verbose=False)"
            ]
          },
          "metadata": {
            "tags": []
          },
          "execution_count": 7
        }
      ]
    },
    {
      "cell_type": "code",
      "metadata": {
        "id": "pCEAssLdXNwk",
        "colab_type": "code",
        "colab": {
          "base_uri": "https://localhost:8080/",
          "height": 34
        },
        "outputId": "ca5fc053-bc29-470a-97e8-a83d6c63d743"
      },
      "source": [
        "y_pred=clf.predict(x_test)\n",
        "svm_error=(mean_squared_error(y_test, y_pred))\n",
        "score = clf.score(x_test, y_test)\n",
        "svm_accuracy=score*100\n",
        "print(score*100)"
      ],
      "execution_count": 24,
      "outputs": [
        {
          "output_type": "stream",
          "text": [
            "97.92\n"
          ],
          "name": "stdout"
        }
      ]
    },
    {
      "cell_type": "markdown",
      "metadata": {
        "id": "pshY8ZokS6bP",
        "colab_type": "text"
      },
      "source": [
        "###Stochastic Gradient Descent\n",
        "\n",
        "‘stochastic‘ means a process that is linked with a random probability. Here a few samples are selected randomly instead of the whole data set for each iteration.\n",
        "\n",
        "Useful:\n",
        "* When you have a million samples in your dataset\n",
        "  * Uses only a single sample, i.e., a batch size of one, to perform each iteration. The sample is randomly shuffled and selected for performing the iteration.\n",
        "\n",
        "\n",
        "\n",
        "\n"
      ]
    },
    {
      "cell_type": "code",
      "metadata": {
        "id": "91i7492SAVWu",
        "colab_type": "code",
        "colab": {}
      },
      "source": [
        "sgdc = SGDClassifier(loss=\"log\", penalty=\"l2\", max_iter=5)\n",
        "sgdc.fit(x_train, y_train)"
      ],
      "execution_count": null,
      "outputs": []
    },
    {
      "cell_type": "code",
      "metadata": {
        "id": "MvAvXCqKBLQK",
        "colab_type": "code",
        "colab": {
          "base_uri": "https://localhost:8080/",
          "height": 51
        },
        "outputId": "2f52415e-dad7-4eb1-fb2b-58fce6e40fb3"
      },
      "source": [
        "y_pred=sgdc.predict(x_test)\n",
        "sgdc_error=(mean_squared_error(y_test, y_pred))\n",
        "score = sgdc.score(x_test, y_test)\n",
        "sgdc_accuracy=score*100\n",
        "print(sgdc_error)\n",
        "print(score*100)\n"
      ],
      "execution_count": 8,
      "outputs": [
        {
          "output_type": "stream",
          "text": [
            "2.1052\n",
            "88.14999999999999\n"
          ],
          "name": "stdout"
        }
      ]
    },
    {
      "cell_type": "code",
      "metadata": {
        "id": "a_cmzZVJ40vX",
        "colab_type": "code",
        "colab": {}
      },
      "source": [
        "error=[logistic_error, svm_error,sgdc_error]\n",
        "#error=[1.305,0.4148,2.1052]\n",
        "accuracy=[logistic_accuracy,svm_accuracy,sgdc_accuracy]\n",
        "#accuracy=[92.38,97.92, 88.15]"
      ],
      "execution_count": 15,
      "outputs": []
    },
    {
      "cell_type": "markdown",
      "metadata": {
        "id": "zC2Spt4jfH7Z",
        "colab_type": "text"
      },
      "source": [
        "##Error Comparision of Models"
      ]
    },
    {
      "cell_type": "code",
      "metadata": {
        "id": "m3TtL7C9aPgP",
        "colab_type": "code",
        "colab": {
          "base_uri": "https://localhost:8080/",
          "height": 312
        },
        "outputId": "0dc116ff-c9c1-4140-8c39-fdd723c741e9"
      },
      "source": [
        "def autolabel(rects):\n",
        "    \"\"\"Attach a text label above each bar in *rects*, displaying its height.\"\"\"\n",
        "    for rect in rects:\n",
        "        height = rect.get_height()\n",
        "        plt.annotate('{}'.format(height),\n",
        "                    xy=(rect.get_x(), height/2)\n",
        "                    )\n",
        "\n",
        "plt.tight_layout()\n",
        "rects = plt.bar(x = [1,2,3], \n",
        "                height=error, \n",
        "                width=0.3, \n",
        "                tick_label=['Logistic', 'SVM','SGDC'])\n",
        "\n",
        "autolabel(rects)\n",
        "plt.title('Model Error Comparision')\n",
        "plt.ylabel('Error')\n",
        "plt.xlabel('Model')"
      ],
      "execution_count": 11,
      "outputs": [
        {
          "output_type": "execute_result",
          "data": {
            "text/plain": [
              "Text(0.5, 0, 'Model')"
            ]
          },
          "metadata": {
            "tags": []
          },
          "execution_count": 11
        },
        {
          "output_type": "display_data",
          "data": {
            "image/png": "[encoded data removed]",
            "text/plain": [
              "<Figure size 432x288 with 1 Axes>"
            ]
          },
          "metadata": {
            "tags": [],
            "needs_background": "light"
          }
        }
      ]
    },
    {
      "cell_type": "markdown",
      "metadata": {
        "id": "1DEL042HfN2a",
        "colab_type": "text"
      },
      "source": [
        "##Accuracy Comparision of Models"
      ]
    },
    {
      "cell_type": "code",
      "metadata": {
        "id": "UG0Ndbe_6d_5",
        "colab_type": "code",
        "colab": {
          "base_uri": "https://localhost:8080/",
          "height": 312
        },
        "outputId": "e1092160-6861-4572-c5e5-ce44f29da4f7"
      },
      "source": [
        "def autolabel(rects):\n",
        "    \"\"\"Attach a text label above each bar in *rects*, displaying its height.\"\"\"\n",
        "    for rect in rects:\n",
        "        height = rect.get_height()\n",
        "        plt.annotate('{}%'.format(height),\n",
        "                    xy=(rect.get_x()+0.01, height/2)\n",
        "                    )\n",
        "\n",
        "plt.tight_layout()\n",
        "rects = plt.bar(x = [1,2,3], \n",
        "                height=accuracy, \n",
        "                width=0.3, \n",
        "                tick_label=['Logistic', 'SVM', 'SGDC'])\n",
        "\n",
        "autolabel(rects)\n",
        "plt.title('Model Accuracy Comparision')\n",
        "plt.ylabel('Accuracy')\n",
        "plt.xlabel('Model')"
      ],
      "execution_count": 17,
      "outputs": [
        {
          "output_type": "execute_result",
          "data": {
            "text/plain": [
              "Text(0.5, 0, 'Model')"
            ]
          },
          "metadata": {
            "tags": []
          },
          "execution_count": 17
        },
        {
          "output_type": "display_data",
          "data": {
            "image/png": "[encoded data removed]",
            "text/plain": [
              "<Figure size 432x288 with 1 Axes>"
            ]
          },
          "metadata": {
            "tags": [],
            "needs_background": "light"
          }
        }
      ]
    },
    {
      "cell_type": "code",
      "metadata": {
        "id": "6F3mk4Ig-NVo",
        "colab_type": "code",
        "colab": {}
      },
      "source": [
        ""
      ],
      "execution_count": null,
      "outputs": []
    }
  ]
}